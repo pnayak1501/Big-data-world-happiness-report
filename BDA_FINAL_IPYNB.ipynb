{
  "nbformat": 4,
  "nbformat_minor": 0,
  "metadata": {
    "colab": {
      "name": "BDA FINAL.ipynb",
      "provenance": []
    },
    "kernelspec": {
      "name": "python3",
      "display_name": "Python 3"
    },
    "language_info": {
      "name": "python"
    }
  },
  "cells": [
    {
      "cell_type": "code",
      "metadata": {
        "id": "f2ZAsz8Ts9rp"
      },
      "source": [
        "import numpy as np # linear algebra\n",
        "import pandas as pd # data processing, CSV file I/O\n",
        "\n",
        "\n",
        "import os\n",
        "for dirname, _, filenames in os.walk('/kaggle/input'):\n",
        "    for filename in filenames:\n",
        "        print(os.path.join(dirname, filename))\n"
      ],
      "execution_count": 1,
      "outputs": []
    },
    {
      "cell_type": "code",
      "metadata": {
        "id": "7VlewFuttC6O",
        "colab": {
          "base_uri": "https://localhost:8080/"
        },
        "outputId": "31d9e719-748a-4705-b3f9-a778658c8364"
      },
      "source": [
        "!pip install pyspark"
      ],
      "execution_count": 2,
      "outputs": [
        {
          "output_type": "stream",
          "text": [
            "Collecting pyspark\n",
            "\u001b[?25l  Downloading https://files.pythonhosted.org/packages/89/db/e18cfd78e408de957821ec5ca56de1250645b05f8523d169803d8df35a64/pyspark-3.1.2.tar.gz (212.4MB)\n",
            "\u001b[K     |████████████████████████████████| 212.4MB 54kB/s \n",
            "\u001b[?25hCollecting py4j==0.10.9\n",
            "\u001b[?25l  Downloading https://files.pythonhosted.org/packages/9e/b6/6a4fb90cd235dc8e265a6a2067f2a2c99f0d91787f06aca4bcf7c23f3f80/py4j-0.10.9-py2.py3-none-any.whl (198kB)\n",
            "\u001b[K     |████████████████████████████████| 204kB 17.9MB/s \n",
            "\u001b[?25hBuilding wheels for collected packages: pyspark\n",
            "  Building wheel for pyspark (setup.py) ... \u001b[?25l\u001b[?25hdone\n",
            "  Created wheel for pyspark: filename=pyspark-3.1.2-py2.py3-none-any.whl size=212880768 sha256=3e6e0687048e41e7175622560c768c84f17c96318c92f3adfefc75782483bd84\n",
            "  Stored in directory: /root/.cache/pip/wheels/40/1b/2c/30f43be2627857ab80062bef1527c0128f7b4070b6b2d02139\n",
            "Successfully built pyspark\n",
            "Installing collected packages: py4j, pyspark\n",
            "Successfully installed py4j-0.10.9 pyspark-3.1.2\n"
          ],
          "name": "stdout"
        }
      ]
    },
    {
      "cell_type": "code",
      "metadata": {
        "colab": {
          "base_uri": "https://localhost:8080/"
        },
        "id": "DHoC629VtGuK",
        "outputId": "5e9d002d-3337-48fa-ae20-9b81c521156d"
      },
      "source": [
        "!ls"
      ],
      "execution_count": 3,
      "outputs": [
        {
          "output_type": "stream",
          "text": [
            "sample_data\n"
          ],
          "name": "stdout"
        }
      ]
    },
    {
      "cell_type": "code",
      "metadata": {
        "colab": {
          "base_uri": "https://localhost:8080/"
        },
        "id": "AJOJ1PfPtRvH",
        "outputId": "9f604d1d-0292-4df3-a638-d8e5b89d4194"
      },
      "source": [
        "!pwd"
      ],
      "execution_count": 4,
      "outputs": [
        {
          "output_type": "stream",
          "text": [
            "/content\n"
          ],
          "name": "stdout"
        }
      ]
    },
    {
      "cell_type": "markdown",
      "metadata": {
        "id": "k46g5pzfwUDT"
      },
      "source": [
        "# **Loading the dataset**"
      ]
    },
    {
      "cell_type": "code",
      "metadata": {
        "colab": {
          "base_uri": "https://localhost:8080/",
          "height": 144
        },
        "id": "zYP2RcJutUSl",
        "outputId": "c0bb5532-2013-4bf8-9cc3-5b77a33ae11b"
      },
      "source": [
        "pdf = pd.read_csv('world-happiness-report.csv')\n",
        "pdf.head(2)"
      ],
      "execution_count": 6,
      "outputs": [
        {
          "output_type": "execute_result",
          "data": {
            "text/html": [
              "<div>\n",
              "<style scoped>\n",
              "    .dataframe tbody tr th:only-of-type {\n",
              "        vertical-align: middle;\n",
              "    }\n",
              "\n",
              "    .dataframe tbody tr th {\n",
              "        vertical-align: top;\n",
              "    }\n",
              "\n",
              "    .dataframe thead th {\n",
              "        text-align: right;\n",
              "    }\n",
              "</style>\n",
              "<table border=\"1\" class=\"dataframe\">\n",
              "  <thead>\n",
              "    <tr style=\"text-align: right;\">\n",
              "      <th></th>\n",
              "      <th>Country name</th>\n",
              "      <th>year</th>\n",
              "      <th>Life Ladder</th>\n",
              "      <th>Log GDP per capita</th>\n",
              "      <th>Social support</th>\n",
              "      <th>Healthy life expectancy at birth</th>\n",
              "      <th>Freedom to make life choices</th>\n",
              "      <th>Generosity</th>\n",
              "      <th>Perceptions of corruption</th>\n",
              "      <th>Positive affect</th>\n",
              "      <th>Negative affect</th>\n",
              "    </tr>\n",
              "  </thead>\n",
              "  <tbody>\n",
              "    <tr>\n",
              "      <th>0</th>\n",
              "      <td>Afghanistan</td>\n",
              "      <td>2008</td>\n",
              "      <td>3.724</td>\n",
              "      <td>7.37</td>\n",
              "      <td>0.451</td>\n",
              "      <td>50.8</td>\n",
              "      <td>0.718</td>\n",
              "      <td>0.168</td>\n",
              "      <td>0.882</td>\n",
              "      <td>0.518</td>\n",
              "      <td>0.258</td>\n",
              "    </tr>\n",
              "    <tr>\n",
              "      <th>1</th>\n",
              "      <td>Afghanistan</td>\n",
              "      <td>2009</td>\n",
              "      <td>4.402</td>\n",
              "      <td>7.54</td>\n",
              "      <td>0.552</td>\n",
              "      <td>51.2</td>\n",
              "      <td>0.679</td>\n",
              "      <td>0.190</td>\n",
              "      <td>0.850</td>\n",
              "      <td>0.584</td>\n",
              "      <td>0.237</td>\n",
              "    </tr>\n",
              "  </tbody>\n",
              "</table>\n",
              "</div>"
            ],
            "text/plain": [
              "  Country name  year  ...  Positive affect  Negative affect\n",
              "0  Afghanistan  2008  ...            0.518            0.258\n",
              "1  Afghanistan  2009  ...            0.584            0.237\n",
              "\n",
              "[2 rows x 11 columns]"
            ]
          },
          "metadata": {
            "tags": []
          },
          "execution_count": 6
        }
      ]
    },
    {
      "cell_type": "code",
      "metadata": {
        "colab": {
          "base_uri": "https://localhost:8080/",
          "height": 191
        },
        "id": "kAuWl2e1wNYz",
        "outputId": "24a5b6a9-fdb3-47cd-ef3f-a181ade31775"
      },
      "source": [
        "from pyspark import SparkContext\n",
        "sc = SparkContext(appName='happiness-report')\n",
        "sc"
      ],
      "execution_count": 7,
      "outputs": [
        {
          "output_type": "execute_result",
          "data": {
            "text/html": [
              "\n",
              "        <div>\n",
              "            <p><b>SparkContext</b></p>\n",
              "\n",
              "            <p><a href=\"http://0ce80c110889:4040\">Spark UI</a></p>\n",
              "\n",
              "            <dl>\n",
              "              <dt>Version</dt>\n",
              "                <dd><code>v3.1.2</code></dd>\n",
              "              <dt>Master</dt>\n",
              "                <dd><code>local[*]</code></dd>\n",
              "              <dt>AppName</dt>\n",
              "                <dd><code>happiness-report</code></dd>\n",
              "            </dl>\n",
              "        </div>\n",
              "        "
            ],
            "text/plain": [
              "<SparkContext master=local[*] appName=happiness-report>"
            ]
          },
          "metadata": {
            "tags": []
          },
          "execution_count": 7
        }
      ]
    },
    {
      "cell_type": "code",
      "metadata": {
        "colab": {
          "base_uri": "https://localhost:8080/"
        },
        "id": "QPTDYg2Hw7vW",
        "outputId": "0ac243cc-4002-440e-e92b-ded157a86609"
      },
      "source": [
        "from pyspark.sql import SQLContext\n",
        "\n",
        "sqlContext = SQLContext(sc)\n",
        "sqlContext"
      ],
      "execution_count": 8,
      "outputs": [
        {
          "output_type": "execute_result",
          "data": {
            "text/plain": [
              "<pyspark.sql.context.SQLContext at 0x7fb053e62750>"
            ]
          },
          "metadata": {
            "tags": []
          },
          "execution_count": 8
        }
      ]
    },
    {
      "cell_type": "code",
      "metadata": {
        "id": "jqBEXaCtxPUo"
      },
      "source": [
        "import pyspark.sql.functions as F"
      ],
      "execution_count": 9,
      "outputs": []
    },
    {
      "cell_type": "code",
      "metadata": {
        "colab": {
          "base_uri": "https://localhost:8080/"
        },
        "id": "8Di1LnasxXYG",
        "outputId": "ac8a101a-fd75-4388-f904-5798370542bb"
      },
      "source": [
        "#convert pandas dataframe into pyspark\n",
        "sdf = sqlContext.createDataFrame(pdf)\n",
        "sdf.show(5)"
      ],
      "execution_count": 10,
      "outputs": [
        {
          "output_type": "stream",
          "text": [
            "+------------+----+------------------+------------------+--------------+--------------------------------+----------------------------+-------------------+-------------------------+---------------+---------------+\n",
            "|Country name|year|       Life Ladder|Log GDP per capita|Social support|Healthy life expectancy at birth|Freedom to make life choices|         Generosity|Perceptions of corruption|Positive affect|Negative affect|\n",
            "+------------+----+------------------+------------------+--------------+--------------------------------+----------------------------+-------------------+-------------------------+---------------+---------------+\n",
            "| Afghanistan|2008|3.7239999999999998|              7.37|         0.451|                            50.8|                       0.718|              0.168|                    0.882|          0.518|          0.258|\n",
            "| Afghanistan|2009|             4.402|              7.54|         0.552|                            51.2|                       0.679|               0.19|                     0.85|          0.584|          0.237|\n",
            "| Afghanistan|2010|             4.758|             7.647|         0.539|                            51.6|                         0.6|              0.121|       0.7070000000000001|          0.618|          0.275|\n",
            "| Afghanistan|2011|             3.832|              7.62|         0.521|                           51.92|                       0.496|              0.162|                    0.731|          0.611|          0.267|\n",
            "| Afghanistan|2012|             3.783|             7.705|         0.521|                           52.24|                       0.531|0.23600000000000002|       0.7759999999999999|           0.71|          0.268|\n",
            "+------------+----+------------------+------------------+--------------+--------------------------------+----------------------------+-------------------+-------------------------+---------------+---------------+\n",
            "only showing top 5 rows\n",
            "\n"
          ],
          "name": "stdout"
        }
      ]
    },
    {
      "cell_type": "markdown",
      "metadata": {
        "id": "DZCoKIyxxxNk"
      },
      "source": [
        "# **Filter**"
      ]
    },
    {
      "cell_type": "code",
      "metadata": {
        "colab": {
          "base_uri": "https://localhost:8080/"
        },
        "id": "Zcn31LcXxr4p",
        "outputId": "a1f2dc74-4a7d-46d1-e246-49e020f1a7d4"
      },
      "source": [
        "latest_year = sdf.agg(F.max('year').alias('max_year'))\n",
        "latest_year.show()"
      ],
      "execution_count": 16,
      "outputs": [
        {
          "output_type": "stream",
          "text": [
            "+--------+\n",
            "|max_year|\n",
            "+--------+\n",
            "|    2020|\n",
            "+--------+\n",
            "\n"
          ],
          "name": "stdout"
        }
      ]
    },
    {
      "cell_type": "code",
      "metadata": {
        "id": "PXm1a-jeyTVc",
        "colab": {
          "base_uri": "https://localhost:8080/"
        },
        "outputId": "4c5b0096-4c52-4a0e-c04f-eacee31ad798"
      },
      "source": [
        "type(latest_year)"
      ],
      "execution_count": 17,
      "outputs": [
        {
          "output_type": "execute_result",
          "data": {
            "text/plain": [
              "pyspark.sql.dataframe.DataFrame"
            ]
          },
          "metadata": {
            "tags": []
          },
          "execution_count": 17
        }
      ]
    },
    {
      "cell_type": "code",
      "metadata": {
        "colab": {
          "base_uri": "https://localhost:8080/"
        },
        "id": "73EAMW7v6hJQ",
        "outputId": "dd492e19-85c8-4a0b-e289-42aea05e71de"
      },
      "source": [
        "latest_year = latest_year.collect()\n",
        "latest_year"
      ],
      "execution_count": 18,
      "outputs": [
        {
          "output_type": "execute_result",
          "data": {
            "text/plain": [
              "[Row(max_year=2020)]"
            ]
          },
          "metadata": {
            "tags": []
          },
          "execution_count": 18
        }
      ]
    },
    {
      "cell_type": "code",
      "metadata": {
        "colab": {
          "base_uri": "https://localhost:8080/"
        },
        "id": "ps59j17Aym0S",
        "outputId": "176c0848-91aa-4813-e6e4-ad3e14cc1750"
      },
      "source": [
        "latest_year = latest_year[0]['max_year']\n",
        "latest_year"
      ],
      "execution_count": 19,
      "outputs": [
        {
          "output_type": "execute_result",
          "data": {
            "text/plain": [
              "2020"
            ]
          },
          "metadata": {
            "tags": []
          },
          "execution_count": 19
        }
      ]
    },
    {
      "cell_type": "code",
      "metadata": {
        "colab": {
          "base_uri": "https://localhost:8080/"
        },
        "id": "3H6tBKni0xE5",
        "outputId": "4a05a724-89af-4b34-9189-f49f58b5116d"
      },
      "source": [
        "sdf_filtered = sdf.where(\"year = '{}'\".format(latest_year))\n",
        "sdf_filtered.show(10)"
      ],
      "execution_count": 63,
      "outputs": [
        {
          "output_type": "stream",
          "text": [
            "+--------------------+----+------------------+------------------+------------------+--------------------------------+----------------------------+--------------------+-------------------------+------------------+-------------------+\n",
            "|        Country name|year|       Life Ladder|Log GDP per capita|    Social support|Healthy life expectancy at birth|Freedom to make life choices|          Generosity|Perceptions of corruption|   Positive affect|    Negative affect|\n",
            "+--------------------+----+------------------+------------------+------------------+--------------------------------+----------------------------+--------------------+-------------------------+------------------+-------------------+\n",
            "|             Albania|2020|             5.365|             9.497|              0.71|                            69.3|                       0.754|0.006999999999999999|       0.8909999999999999|             0.679|              0.265|\n",
            "|           Argentina|2020|             5.901|              9.85|             0.897|                            69.2|                       0.823|              -0.122|                    0.816|             0.764|              0.342|\n",
            "|           Australia|2020|7.1370000000000005|             10.76|             0.937|                            74.2|                       0.905|                0.21|                    0.491|             0.769|              0.205|\n",
            "|             Austria|2020| 7.212999999999999|10.850999999999999|             0.925|                            73.6|                       0.912|0.011000000000000001|      0.46399999999999997|             0.769|0.20600000000000002|\n",
            "|             Bahrain|2020| 6.172999999999999|             10.62|             0.848|                            69.7|                       0.945|               0.132|                      NaN|              0.79|              0.297|\n",
            "|          Bangladesh|2020|              5.28| 8.472000000000001|0.7390000000000001|                            65.3|                       0.777|-0.00900000000000...|                    0.742|0.5820000000000001|              0.332|\n",
            "|             Belgium|2020|6.8389999999999995|10.770999999999999|             0.904|                            72.4|                       0.767|-0.16399999999999998|                    0.634|             0.647|               0.26|\n",
            "|               Benin|2020|             4.408|             8.102|             0.507|                            55.1|          0.7829999999999999|              -0.083|                    0.532|             0.609|              0.305|\n",
            "|             Bolivia|2020|             5.559|             8.998|             0.805|                            64.2|                       0.877|-0.05400000000000...|                    0.868|              0.79|              0.382|\n",
            "|Bosnia and Herzeg...|2020|             5.516|             9.583|             0.899|                            68.4|                        0.74|               0.138|       0.9159999999999999|             0.644|              0.325|\n",
            "+--------------------+----+------------------+------------------+------------------+--------------------------------+----------------------------+--------------------+-------------------------+------------------+-------------------+\n",
            "only showing top 10 rows\n",
            "\n"
          ],
          "name": "stdout"
        }
      ]
    },
    {
      "cell_type": "code",
      "metadata": {
        "colab": {
          "base_uri": "https://localhost:8080/"
        },
        "id": "YZ6XnwOn1c8j",
        "outputId": "152898c6-0b7e-41bc-beec-adf9a5e6a8df"
      },
      "source": [
        "sdf_filtered.count()"
      ],
      "execution_count": 21,
      "outputs": [
        {
          "output_type": "execute_result",
          "data": {
            "text/plain": [
              "95"
            ]
          },
          "metadata": {
            "tags": []
          },
          "execution_count": 21
        }
      ]
    },
    {
      "cell_type": "markdown",
      "metadata": {
        "id": "jlKEMNsX1yLV"
      },
      "source": [
        "# **Groupby and Aggregation**"
      ]
    },
    {
      "cell_type": "code",
      "metadata": {
        "colab": {
          "base_uri": "https://localhost:8080/"
        },
        "id": "rFEAd9oN3ek6",
        "outputId": "6741798d-d288-4028-9331-3b6aaeaba191"
      },
      "source": [
        "overall_stats = sdf.agg(\n",
        "    F.count(\"*\").alias(\"number_of_records\"), # to count the number of records in the dataset\n",
        "    F.countDistinct(\"Country name\").alias(\"number_of_countries\"), # to get the distinct count of counties in column 'county'\n",
        ")\n",
        "\n",
        "overall_stats.show(1, False)"
      ],
      "execution_count": 33,
      "outputs": [
        {
          "output_type": "stream",
          "text": [
            "+-----------------+-------------------+\n",
            "|number_of_records|number_of_countries|\n",
            "+-----------------+-------------------+\n",
            "|1949             |166                |\n",
            "+-----------------+-------------------+\n",
            "\n"
          ],
          "name": "stdout"
        }
      ]
    },
    {
      "cell_type": "code",
      "metadata": {
        "colab": {
          "base_uri": "https://localhost:8080/"
        },
        "id": "-duzPbLV2piU",
        "outputId": "d485df61-4e9e-4c2f-e1c1-59ec672ff6cf"
      },
      "source": [
        "overall_stats_filtered = sdf_filtered.agg(\n",
        "    F.count(\"*\").alias(\"number_of_records\"), # to count the number of records in the dataset\n",
        "    F.countDistinct(\"Country name\").alias(\"number_of_countries\"), # to get the distinct count of counties in column 'countty'\n",
        ")\n",
        "\n",
        "overall_stats.show(1, False)"
      ],
      "execution_count": 36,
      "outputs": [
        {
          "output_type": "stream",
          "text": [
            "+-----------------+-------------------+\n",
            "|number_of_records|number_of_countries|\n",
            "+-----------------+-------------------+\n",
            "|1949             |166                |\n",
            "+-----------------+-------------------+\n",
            "\n"
          ],
          "name": "stdout"
        }
      ]
    },
    {
      "cell_type": "code",
      "metadata": {
        "colab": {
          "base_uri": "https://localhost:8080/"
        },
        "id": "hnAcLNu53tvo",
        "outputId": "ec5d636b-1d9e-4d5f-a840-bd6434a60711"
      },
      "source": [
        "sdf_filtered.orderBy(\"Country Name\").show(10, False)"
      ],
      "execution_count": 24,
      "outputs": [
        {
          "output_type": "stream",
          "text": [
            "+----------------------+----+------------------+------------------+------------------+--------------------------------+----------------------------+---------------------+-------------------------+------------------+-------------------+\n",
            "|Country name          |year|Life Ladder       |Log GDP per capita|Social support    |Healthy life expectancy at birth|Freedom to make life choices|Generosity           |Perceptions of corruption|Positive affect   |Negative affect    |\n",
            "+----------------------+----+------------------+------------------+------------------+--------------------------------+----------------------------+---------------------+-------------------------+------------------+-------------------+\n",
            "|Albania               |2020|5.365             |9.497             |0.71              |69.3                            |0.754                       |0.006999999999999999 |0.8909999999999999       |0.679             |0.265              |\n",
            "|Argentina             |2020|5.901             |9.85              |0.897             |69.2                            |0.823                       |-0.122               |0.816                    |0.764             |0.342              |\n",
            "|Australia             |2020|7.1370000000000005|10.76             |0.937             |74.2                            |0.905                       |0.21                 |0.491                    |0.769             |0.205              |\n",
            "|Austria               |2020|7.212999999999999 |10.850999999999999|0.925             |73.6                            |0.912                       |0.011000000000000001 |0.46399999999999997      |0.769             |0.20600000000000002|\n",
            "|Bahrain               |2020|6.172999999999999 |10.62             |0.848             |69.7                            |0.945                       |0.132                |NaN                      |0.79              |0.297              |\n",
            "|Bangladesh            |2020|5.28              |8.472000000000001 |0.7390000000000001|65.3                            |0.777                       |-0.009000000000000001|0.742                    |0.5820000000000001|0.332              |\n",
            "|Belgium               |2020|6.8389999999999995|10.770999999999999|0.904             |72.4                            |0.767                       |-0.16399999999999998 |0.634                    |0.647             |0.26               |\n",
            "|Benin                 |2020|4.408             |8.102             |0.507             |55.1                            |0.7829999999999999          |-0.083               |0.532                    |0.609             |0.305              |\n",
            "|Bolivia               |2020|5.559             |8.998             |0.805             |64.2                            |0.877                       |-0.054000000000000006|0.868                    |0.79              |0.382              |\n",
            "|Bosnia and Herzegovina|2020|5.516             |9.583             |0.899             |68.4                            |0.74                        |0.138                |0.9159999999999999       |0.644             |0.325              |\n",
            "+----------------------+----+------------------+------------------+------------------+--------------------------------+----------------------------+---------------------+-------------------------+------------------+-------------------+\n",
            "only showing top 10 rows\n",
            "\n"
          ],
          "name": "stdout"
        }
      ]
    },
    {
      "cell_type": "code",
      "metadata": {
        "colab": {
          "base_uri": "https://localhost:8080/"
        },
        "id": "D4m49gg64Wm_",
        "outputId": "08359763-dc2f-4119-833e-854c98756d8d"
      },
      "source": [
        "country_summary = sdf.groupBy(\n",
        "    \"Country name\"\n",
        ").agg(\n",
        "    F.avg(\"Life Ladder\").alias(\"life_ladder_avg\"),\n",
        "    F.avg(\"Log GDP per capita\").alias(\"gdp_avg\"),\n",
        "    F.avg(\"Social Support\").alias(\"social_support_avg\"),\n",
        "    F.count(\"*\").alias(\"number_of_records\"),\n",
        "    F.countDistinct(\"Country name\").alias(\"number_of_countries\")\n",
        ")\n",
        "\n",
        "country_summary.orderBy(\"Country Name\").show(20, False)"
      ],
      "execution_count": 25,
      "outputs": [
        {
          "output_type": "stream",
          "text": [
            "+----------------------+------------------+------------------+-------------------+-----------------+-------------------+\n",
            "|Country name          |life_ladder_avg   |gdp_avg           |social_support_avg |number_of_records|number_of_countries|\n",
            "+----------------------+------------------+------------------+-------------------+-----------------+-------------------+\n",
            "|Afghanistan           |3.594666666666667 |7.650833333333334 |0.5084166666666666 |12               |1                  |\n",
            "|Albania               |5.019384615384615 |9.384384615384615 |0.7162307692307692 |13               |1                  |\n",
            "|Algeria               |5.389875          |9.328875000000002 |NaN                |8                |1                  |\n",
            "|Angola                |4.420249999999999 |8.990000000000002 |0.73825            |4                |1                  |\n",
            "|Argentina             |6.310133333333335 |10.033800000000001|0.9044000000000001 |15               |1                  |\n",
            "|Armenia               |4.513571428571429 |9.270357142857142 |0.7185714285714286 |14               |1                  |\n",
            "|Australia             |7.282071428571429 |10.755571428571429|0.9473571428571427 |14               |1                  |\n",
            "|Austria               |7.242230769230769 |10.886846153846154|0.9295384615384618 |13               |1                  |\n",
            "|Azerbaijan            |4.941000000000001 |9.519571428571428 |0.7705714285714287 |14               |1                  |\n",
            "|Bahrain               |6.0017272727272735|10.730818181818181|NaN                |11               |1                  |\n",
            "|Bangladesh            |4.7544666666666675|8.1286            |0.6070666666666668 |15               |1                  |\n",
            "|Belarus               |5.571071428571428 |9.760071428571425 |0.9067142857142857 |14               |1                  |\n",
            "|Belgium               |6.9815            |10.798714285714286|0.9201428571428573 |14               |1                  |\n",
            "|Belize                |6.2035            |8.8875            |0.8145             |2                |1                  |\n",
            "|Benin                 |4.047916666666667 |7.985916666666667 |0.47716666666666674|12               |1                  |\n",
            "|Bhutan                |5.196666666666666 |9.169666666666666 |0.8490000000000001 |3                |1                  |\n",
            "|Bolivia               |5.733399999999999 |8.8976            |0.8063333333333332 |15               |1                  |\n",
            "|Bosnia and Herzegovina|5.19076923076923  |9.430769230769231 |0.783076923076923  |13               |1                  |\n",
            "|Botswana              |3.9963333333333337|9.67875           |0.8261666666666665 |12               |1                  |\n",
            "|Brazil                |6.620866666666667 |9.583933333333333 |0.8944             |15               |1                  |\n",
            "+----------------------+------------------+------------------+-------------------+-----------------+-------------------+\n",
            "only showing top 20 rows\n",
            "\n"
          ],
          "name": "stdout"
        }
      ]
    },
    {
      "cell_type": "code",
      "metadata": {
        "colab": {
          "base_uri": "https://localhost:8080/"
        },
        "id": "AsVBdu9EBRz6",
        "outputId": "ffb0f71f-6cfd-4c75-93a6-fbdaabcbcd2f"
      },
      "source": [
        "from pyspark.sql.functions import col\n",
        "\n",
        "avgColumns = [col('gdp_avg'), col('social_support_avg')]\n",
        "\n",
        "averageFunc = sum(x for x in avgColumns)/len(avgColumns)\n",
        "\n",
        "country_overall = country_summary.withColumn('Result(Avg)', averageFunc)\n",
        "country_summary.withColumn('Result(Avg)', averageFunc).orderBy(\"Country Name\").show(truncate=False)"
      ],
      "execution_count": 26,
      "outputs": [
        {
          "output_type": "stream",
          "text": [
            "+----------------------+------------------+------------------+-------------------+-----------------+-------------------+------------------+\n",
            "|Country name          |life_ladder_avg   |gdp_avg           |social_support_avg |number_of_records|number_of_countries|Result(Avg)       |\n",
            "+----------------------+------------------+------------------+-------------------+-----------------+-------------------+------------------+\n",
            "|Afghanistan           |3.594666666666667 |7.650833333333334 |0.5084166666666666 |12               |1                  |4.079625          |\n",
            "|Albania               |5.019384615384615 |9.384384615384615 |0.7162307692307692 |13               |1                  |5.050307692307692 |\n",
            "|Algeria               |5.389875          |9.328875000000002 |NaN                |8                |1                  |NaN               |\n",
            "|Angola                |4.420249999999999 |8.990000000000002 |0.73825            |4                |1                  |4.864125000000001 |\n",
            "|Argentina             |6.310133333333335 |10.033800000000001|0.9044000000000001 |15               |1                  |5.469100000000001 |\n",
            "|Armenia               |4.513571428571429 |9.270357142857142 |0.7185714285714286 |14               |1                  |4.994464285714285 |\n",
            "|Australia             |7.282071428571429 |10.755571428571429|0.9473571428571427 |14               |1                  |5.851464285714286 |\n",
            "|Austria               |7.242230769230769 |10.886846153846154|0.9295384615384618 |13               |1                  |5.908192307692308 |\n",
            "|Azerbaijan            |4.941000000000001 |9.519571428571428 |0.7705714285714287 |14               |1                  |5.145071428571429 |\n",
            "|Bahrain               |6.0017272727272735|10.730818181818181|NaN                |11               |1                  |NaN               |\n",
            "|Bangladesh            |4.7544666666666675|8.1286            |0.6070666666666668 |15               |1                  |4.3678333333333335|\n",
            "|Belarus               |5.571071428571428 |9.760071428571425 |0.9067142857142857 |14               |1                  |5.333392857142855 |\n",
            "|Belgium               |6.9815            |10.798714285714286|0.9201428571428573 |14               |1                  |5.859428571428571 |\n",
            "|Belize                |6.2035            |8.8875            |0.8145             |2                |1                  |4.851             |\n",
            "|Benin                 |4.047916666666667 |7.985916666666667 |0.47716666666666674|12               |1                  |4.231541666666667 |\n",
            "|Bhutan                |5.196666666666666 |9.169666666666666 |0.8490000000000001 |3                |1                  |5.009333333333333 |\n",
            "|Bolivia               |5.733399999999999 |8.8976            |0.8063333333333332 |15               |1                  |4.851966666666667 |\n",
            "|Bosnia and Herzegovina|5.19076923076923  |9.430769230769231 |0.783076923076923  |13               |1                  |5.106923076923077 |\n",
            "|Botswana              |3.9963333333333337|9.67875           |0.8261666666666665 |12               |1                  |5.252458333333333 |\n",
            "|Brazil                |6.620866666666667 |9.583933333333333 |0.8944             |15               |1                  |5.239166666666666 |\n",
            "+----------------------+------------------+------------------+-------------------+-----------------+-------------------+------------------+\n",
            "only showing top 20 rows\n",
            "\n"
          ],
          "name": "stdout"
        }
      ]
    },
    {
      "cell_type": "markdown",
      "metadata": {
        "id": "RCWZ_g5C8VAF"
      },
      "source": [
        "# **Parition By & Window Function**"
      ]
    },
    {
      "cell_type": "code",
      "metadata": {
        "id": "nEAeHmq06g7w"
      },
      "source": [
        "from pyspark.sql.window import Window"
      ],
      "execution_count": 27,
      "outputs": []
    },
    {
      "cell_type": "code",
      "metadata": {
        "colab": {
          "base_uri": "https://localhost:8080/"
        },
        "id": "5JXIK0v89ET6",
        "outputId": "b8bb487a-6c3e-4077-da60-d9cb39833574"
      },
      "source": [
        "country_overall.show(2, False)"
      ],
      "execution_count": 28,
      "outputs": [
        {
          "output_type": "stream",
          "text": [
            "+------------+-----------------+-----------------+------------------+-----------------+-------------------+-----------------+\n",
            "|Country name|life_ladder_avg  |gdp_avg          |social_support_avg|number_of_records|number_of_countries|Result(Avg)      |\n",
            "+------------+-----------------+-----------------+------------------+-----------------+-------------------+-----------------+\n",
            "|Albania     |5.019384615384615|9.384384615384615|0.7162307692307692|13               |1                  |5.050307692307692|\n",
            "|North Cyprus|5.651571428571429|NaN              |0.8258571428571428|7                |1                  |NaN              |\n",
            "+------------+-----------------+-----------------+------------------+-----------------+-------------------+-----------------+\n",
            "only showing top 2 rows\n",
            "\n"
          ],
          "name": "stdout"
        }
      ]
    },
    {
      "cell_type": "code",
      "metadata": {
        "colab": {
          "base_uri": "https://localhost:8080/"
        },
        "id": "_Yg3Cv_W9dEq",
        "outputId": "532dfb13-a154-4850-b239-29220399c43a"
      },
      "source": [
        "\n",
        "country_summary_ranked = country_overall.withColumn(\n",
        "    \"life_rank\", # column name\n",
        "    F.rank().over(Window.orderBy(\"life_ladder_avg\")) \n",
        ")\n",
        "\n",
        "country_summary_ranked.show(5, False)"
      ],
      "execution_count": 29,
      "outputs": [
        {
          "output_type": "stream",
          "text": [
            "+------------------------+------------------+-----------------+------------------+-----------------+-------------------+------------------+---------+\n",
            "|Country name            |life_ladder_avg   |gdp_avg          |social_support_avg|number_of_records|number_of_countries|Result(Avg)       |life_rank|\n",
            "+------------------------+------------------+-----------------+------------------+-----------------+-------------------+------------------+---------+\n",
            "|South Sudan             |3.402             |NaN              |0.55475           |4                |1                  |NaN               |1        |\n",
            "|Central African Republic|3.5149999999999997|6.961            |0.4024            |5                |1                  |3.6817            |2        |\n",
            "|Burundi                 |3.5482            |6.722399999999999|0.4178            |5                |1                  |3.570099999999999 |3        |\n",
            "|Togo                    |3.555             |7.239222222222221|0.456             |9                |1                  |3.8476111111111106|4        |\n",
            "|Afghanistan             |3.594666666666667 |7.650833333333334|0.5084166666666666|12               |1                  |4.079625          |5        |\n",
            "+------------------------+------------------+-----------------+------------------+-----------------+-------------------+------------------+---------+\n",
            "only showing top 5 rows\n",
            "\n"
          ],
          "name": "stdout"
        }
      ]
    },
    {
      "cell_type": "code",
      "metadata": {
        "colab": {
          "base_uri": "https://localhost:8080/"
        },
        "id": "mLMfRfsp_Nj0",
        "outputId": "07bea252-469b-401b-e8ea-1a5b226b1260"
      },
      "source": [
        "country_summary_ranked = country_summary_ranked.withColumn(\n",
        "    \"life_rank_desc\",\n",
        "    F.rank().over(Window.orderBy(F.desc(\"life_ladder_avg\")))\n",
        ")\n",
        "\n",
        "country_summary_ranked.orderBy(\"life_ladder_avg\", ascending=False).show(5, False)"
      ],
      "execution_count": 30,
      "outputs": [
        {
          "output_type": "stream",
          "text": [
            "+------------+-----------------+------------------+------------------+-----------------+-------------------+------------------+---------+--------------+\n",
            "|Country name|life_ladder_avg  |gdp_avg           |social_support_avg|number_of_records|number_of_countries|Result(Avg)       |life_rank|life_rank_desc|\n",
            "+------------+-----------------+------------------+------------------+-----------------+-------------------+------------------+---------+--------------+\n",
            "|Denmark     |7.6804           |10.879199999999999|0.9571333333333335|15               |1                  |5.918166666666666 |166      |1             |\n",
            "|Finland     |7.597153846153845|10.749923076923075|0.949             |13               |1                  |5.849461538461537 |165      |2             |\n",
            "|Switzerland |7.5483           |11.0954           |0.9436            |10               |1                  |6.0195            |164      |3             |\n",
            "|Norway      |7.512400000000001|11.0391           |0.9504999999999999|10               |1                  |5.9948            |163      |4             |\n",
            "|Netherlands |7.466285714285713|10.886785714285717|0.9335000000000001|14               |1                  |5.9101428571428585|162      |5             |\n",
            "+------------+-----------------+------------------+------------------+-----------------+-------------------+------------------+---------+--------------+\n",
            "only showing top 5 rows\n",
            "\n"
          ],
          "name": "stdout"
        }
      ]
    },
    {
      "cell_type": "code",
      "metadata": {
        "colab": {
          "base_uri": "https://localhost:8080/"
        },
        "id": "NGCU3c04CGnr",
        "outputId": "d297d5d3-c726-40aa-b9b6-8eb010ac8884"
      },
      "source": [
        "country_overall = country_overall.na.drop(subset=[\"Result(Avg)\"])\n",
        "\n",
        "country_summary_ranked = country_overall.withColumn(\n",
        "    \"Overall Rank\",\n",
        "    F.rank().over(Window.orderBy(F.desc(\"Result(Avg)\")))\n",
        ")\n",
        "\n",
        "country_summary_ranked.orderBy(\"Result(Avg)\", ascending=False).show(15, False)"
      ],
      "execution_count": 31,
      "outputs": [
        {
          "output_type": "stream",
          "text": [
            "+--------------+------------------+------------------+------------------+-----------------+-------------------+------------------+------------+\n",
            "|Country name  |life_ladder_avg   |gdp_avg           |social_support_avg|number_of_records|number_of_countries|Result(Avg)       |Overall Rank|\n",
            "+--------------+------------------+------------------+------------------+-----------------+-------------------+------------------+------------+\n",
            "|Luxembourg    |7.0471818181818175|11.607090909090909|0.9204545454545454|11               |1                  |6.263772727272727 |1           |\n",
            "|Singapore     |6.504230769230769 |11.328999999999999|0.8807692307692309|13               |1                  |6.104884615384615 |2           |\n",
            "|Switzerland   |7.5483            |11.0954           |0.9436            |10               |1                  |6.0195            |3           |\n",
            "|Ireland       |7.067714285714286 |11.064857142857145|0.9600000000000001|14               |1                  |6.012428571428573 |4           |\n",
            "|Norway        |7.512400000000001 |11.0391           |0.9504999999999999|10               |1                  |5.9948            |5           |\n",
            "|Iceland       |7.4465            |10.860625         |0.9775            |8                |1                  |5.919062500000001 |6           |\n",
            "|Denmark       |7.6804            |10.879199999999999|0.9571333333333335|15               |1                  |5.918166666666666 |7           |\n",
            "|Netherlands   |7.466285714285713 |10.886785714285717|0.9335000000000001|14               |1                  |5.9101428571428585|8           |\n",
            "|Austria       |7.242230769230769 |10.886846153846154|0.9295384615384618|13               |1                  |5.908192307692308 |9           |\n",
            "|Sweden        |7.369466666666667 |10.8196           |0.9279333333333333|15               |1                  |5.873766666666667 |10          |\n",
            "|Germany       |6.843133333333332 |10.811000000000002|0.9242            |15               |1                  |5.867600000000001 |11          |\n",
            "|Belgium       |6.9815            |10.798714285714286|0.9201428571428573|14               |1                  |5.859428571428571 |12          |\n",
            "|Australia     |7.282071428571429 |10.755571428571429|0.9473571428571427|14               |1                  |5.851464285714286 |13          |\n",
            "|Finland       |7.597153846153845 |10.749923076923075|0.949             |13               |1                  |5.849461538461537 |14          |\n",
            "|United Kingdom|6.917599999999999 |10.688466666666669|0.9453333333333334|15               |1                  |5.816900000000001 |15          |\n",
            "+--------------+------------------+------------------+------------------+-----------------+-------------------+------------------+------------+\n",
            "only showing top 15 rows\n",
            "\n"
          ],
          "name": "stdout"
        }
      ]
    },
    {
      "cell_type": "code",
      "metadata": {
        "colab": {
          "base_uri": "https://localhost:8080/",
          "height": 622
        },
        "id": "_1sDNcwHarR9",
        "outputId": "2b814ddf-5554-45ad-f9bc-4cf04bd3917e"
      },
      "source": [
        "import matplotlib.pyplot as plt\n",
        "\n",
        "y_ans_val = [val.Generosity for val in sdf.select('Generosity').filter(col(\"Country name\") == \"India\")]\n",
        "x_ts = [val.year for val in sdf.select('year').collect()]\n",
        "\n",
        "plt.plot(x_ts, y_ans_val)\n",
        "\n",
        "plt.ylabel('ans_val')\n",
        "plt.xlabel('timestamp')\n",
        "plt.title('ASN values for time')\n",
        "plt.legend(['asn_val'], loc='upper left')\n",
        "\n",
        "plt.show()"
      ],
      "execution_count": 64,
      "outputs": [
        {
          "output_type": "error",
          "ename": "ValueError",
          "evalue": "ignored",
          "traceback": [
            "\u001b[0;31m---------------------------------------------------------------------------\u001b[0m",
            "\u001b[0;31mValueError\u001b[0m                                Traceback (most recent call last)",
            "\u001b[0;32m<ipython-input-64-28ceb97abd75>\u001b[0m in \u001b[0;36m<module>\u001b[0;34m()\u001b[0m\n\u001b[1;32m      5\u001b[0m \u001b[0mx_ts\u001b[0m \u001b[0;34m=\u001b[0m \u001b[0;34m[\u001b[0m\u001b[0mval\u001b[0m\u001b[0;34m.\u001b[0m\u001b[0myear\u001b[0m \u001b[0;32mfor\u001b[0m \u001b[0mval\u001b[0m \u001b[0;32min\u001b[0m \u001b[0msdf\u001b[0m\u001b[0;34m.\u001b[0m\u001b[0mselect\u001b[0m\u001b[0;34m(\u001b[0m\u001b[0;34m'year'\u001b[0m\u001b[0;34m)\u001b[0m\u001b[0;34m.\u001b[0m\u001b[0mcollect\u001b[0m\u001b[0;34m(\u001b[0m\u001b[0;34m)\u001b[0m\u001b[0;34m]\u001b[0m\u001b[0;34m\u001b[0m\u001b[0;34m\u001b[0m\u001b[0m\n\u001b[1;32m      6\u001b[0m \u001b[0;34m\u001b[0m\u001b[0m\n\u001b[0;32m----> 7\u001b[0;31m \u001b[0mplt\u001b[0m\u001b[0;34m.\u001b[0m\u001b[0mplot\u001b[0m\u001b[0;34m(\u001b[0m\u001b[0mx_ts\u001b[0m\u001b[0;34m,\u001b[0m \u001b[0my_ans_val\u001b[0m\u001b[0;34m)\u001b[0m\u001b[0;34m\u001b[0m\u001b[0;34m\u001b[0m\u001b[0m\n\u001b[0m\u001b[1;32m      8\u001b[0m \u001b[0;34m\u001b[0m\u001b[0m\n\u001b[1;32m      9\u001b[0m \u001b[0mplt\u001b[0m\u001b[0;34m.\u001b[0m\u001b[0mylabel\u001b[0m\u001b[0;34m(\u001b[0m\u001b[0;34m'ans_val'\u001b[0m\u001b[0;34m)\u001b[0m\u001b[0;34m\u001b[0m\u001b[0;34m\u001b[0m\u001b[0m\n",
            "\u001b[0;32m/usr/local/lib/python3.7/dist-packages/matplotlib/pyplot.py\u001b[0m in \u001b[0;36mplot\u001b[0;34m(scalex, scaley, data, *args, **kwargs)\u001b[0m\n\u001b[1;32m   2761\u001b[0m     return gca().plot(\n\u001b[1;32m   2762\u001b[0m         *args, scalex=scalex, scaley=scaley, **({\"data\": data} if data\n\u001b[0;32m-> 2763\u001b[0;31m         is not None else {}), **kwargs)\n\u001b[0m\u001b[1;32m   2764\u001b[0m \u001b[0;34m\u001b[0m\u001b[0m\n\u001b[1;32m   2765\u001b[0m \u001b[0;34m\u001b[0m\u001b[0m\n",
            "\u001b[0;32m/usr/local/lib/python3.7/dist-packages/matplotlib/axes/_axes.py\u001b[0m in \u001b[0;36mplot\u001b[0;34m(self, scalex, scaley, data, *args, **kwargs)\u001b[0m\n\u001b[1;32m   1645\u001b[0m         \"\"\"\n\u001b[1;32m   1646\u001b[0m         \u001b[0mkwargs\u001b[0m \u001b[0;34m=\u001b[0m \u001b[0mcbook\u001b[0m\u001b[0;34m.\u001b[0m\u001b[0mnormalize_kwargs\u001b[0m\u001b[0;34m(\u001b[0m\u001b[0mkwargs\u001b[0m\u001b[0;34m,\u001b[0m \u001b[0mmlines\u001b[0m\u001b[0;34m.\u001b[0m\u001b[0mLine2D\u001b[0m\u001b[0;34m)\u001b[0m\u001b[0;34m\u001b[0m\u001b[0;34m\u001b[0m\u001b[0m\n\u001b[0;32m-> 1647\u001b[0;31m         \u001b[0mlines\u001b[0m \u001b[0;34m=\u001b[0m \u001b[0;34m[\u001b[0m\u001b[0;34m*\u001b[0m\u001b[0mself\u001b[0m\u001b[0;34m.\u001b[0m\u001b[0m_get_lines\u001b[0m\u001b[0;34m(\u001b[0m\u001b[0;34m*\u001b[0m\u001b[0margs\u001b[0m\u001b[0;34m,\u001b[0m \u001b[0mdata\u001b[0m\u001b[0;34m=\u001b[0m\u001b[0mdata\u001b[0m\u001b[0;34m,\u001b[0m \u001b[0;34m**\u001b[0m\u001b[0mkwargs\u001b[0m\u001b[0;34m)\u001b[0m\u001b[0;34m]\u001b[0m\u001b[0;34m\u001b[0m\u001b[0;34m\u001b[0m\u001b[0m\n\u001b[0m\u001b[1;32m   1648\u001b[0m         \u001b[0;32mfor\u001b[0m \u001b[0mline\u001b[0m \u001b[0;32min\u001b[0m \u001b[0mlines\u001b[0m\u001b[0;34m:\u001b[0m\u001b[0;34m\u001b[0m\u001b[0;34m\u001b[0m\u001b[0m\n\u001b[1;32m   1649\u001b[0m             \u001b[0mself\u001b[0m\u001b[0;34m.\u001b[0m\u001b[0madd_line\u001b[0m\u001b[0;34m(\u001b[0m\u001b[0mline\u001b[0m\u001b[0;34m)\u001b[0m\u001b[0;34m\u001b[0m\u001b[0;34m\u001b[0m\u001b[0m\n",
            "\u001b[0;32m/usr/local/lib/python3.7/dist-packages/matplotlib/axes/_base.py\u001b[0m in \u001b[0;36m__call__\u001b[0;34m(self, *args, **kwargs)\u001b[0m\n\u001b[1;32m    214\u001b[0m                 \u001b[0mthis\u001b[0m \u001b[0;34m+=\u001b[0m \u001b[0margs\u001b[0m\u001b[0;34m[\u001b[0m\u001b[0;36m0\u001b[0m\u001b[0;34m]\u001b[0m\u001b[0;34m,\u001b[0m\u001b[0;34m\u001b[0m\u001b[0;34m\u001b[0m\u001b[0m\n\u001b[1;32m    215\u001b[0m                 \u001b[0margs\u001b[0m \u001b[0;34m=\u001b[0m \u001b[0margs\u001b[0m\u001b[0;34m[\u001b[0m\u001b[0;36m1\u001b[0m\u001b[0;34m:\u001b[0m\u001b[0;34m]\u001b[0m\u001b[0;34m\u001b[0m\u001b[0;34m\u001b[0m\u001b[0m\n\u001b[0;32m--> 216\u001b[0;31m             \u001b[0;32myield\u001b[0m \u001b[0;32mfrom\u001b[0m \u001b[0mself\u001b[0m\u001b[0;34m.\u001b[0m\u001b[0m_plot_args\u001b[0m\u001b[0;34m(\u001b[0m\u001b[0mthis\u001b[0m\u001b[0;34m,\u001b[0m \u001b[0mkwargs\u001b[0m\u001b[0;34m)\u001b[0m\u001b[0;34m\u001b[0m\u001b[0;34m\u001b[0m\u001b[0m\n\u001b[0m\u001b[1;32m    217\u001b[0m \u001b[0;34m\u001b[0m\u001b[0m\n\u001b[1;32m    218\u001b[0m     \u001b[0;32mdef\u001b[0m \u001b[0mget_next_color\u001b[0m\u001b[0;34m(\u001b[0m\u001b[0mself\u001b[0m\u001b[0;34m)\u001b[0m\u001b[0;34m:\u001b[0m\u001b[0;34m\u001b[0m\u001b[0;34m\u001b[0m\u001b[0m\n",
            "\u001b[0;32m/usr/local/lib/python3.7/dist-packages/matplotlib/axes/_base.py\u001b[0m in \u001b[0;36m_plot_args\u001b[0;34m(self, tup, kwargs)\u001b[0m\n\u001b[1;32m    340\u001b[0m \u001b[0;34m\u001b[0m\u001b[0m\n\u001b[1;32m    341\u001b[0m         \u001b[0;32mif\u001b[0m \u001b[0mx\u001b[0m\u001b[0;34m.\u001b[0m\u001b[0mshape\u001b[0m\u001b[0;34m[\u001b[0m\u001b[0;36m0\u001b[0m\u001b[0;34m]\u001b[0m \u001b[0;34m!=\u001b[0m \u001b[0my\u001b[0m\u001b[0;34m.\u001b[0m\u001b[0mshape\u001b[0m\u001b[0;34m[\u001b[0m\u001b[0;36m0\u001b[0m\u001b[0;34m]\u001b[0m\u001b[0;34m:\u001b[0m\u001b[0;34m\u001b[0m\u001b[0;34m\u001b[0m\u001b[0m\n\u001b[0;32m--> 342\u001b[0;31m             raise ValueError(f\"x and y must have same first dimension, but \"\n\u001b[0m\u001b[1;32m    343\u001b[0m                              f\"have shapes {x.shape} and {y.shape}\")\n\u001b[1;32m    344\u001b[0m         \u001b[0;32mif\u001b[0m \u001b[0mx\u001b[0m\u001b[0;34m.\u001b[0m\u001b[0mndim\u001b[0m \u001b[0;34m>\u001b[0m \u001b[0;36m2\u001b[0m \u001b[0;32mor\u001b[0m \u001b[0my\u001b[0m\u001b[0;34m.\u001b[0m\u001b[0mndim\u001b[0m \u001b[0;34m>\u001b[0m \u001b[0;36m2\u001b[0m\u001b[0;34m:\u001b[0m\u001b[0;34m\u001b[0m\u001b[0;34m\u001b[0m\u001b[0m\n",
            "\u001b[0;31mValueError\u001b[0m: x and y must have same first dimension, but have shapes (1949,) and (1,)"
          ]
        },
        {
          "output_type": "display_data",
          "data": {
            "image/png": "[encoded data removed]",
            "text/plain": [
              "<Figure size 432x288 with 1 Axes>"
            ]
          },
          "metadata": {
            "tags": [],
            "needs_background": "light"
          }
        }
      ]
    }
  ]
}